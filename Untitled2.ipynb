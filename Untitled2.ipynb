{
  "nbformat": 4,
  "nbformat_minor": 0,
  "metadata": {
    "colab": {
      "provenance": [],
      "authorship_tag": "ABX9TyMuESKRlCDbVsFXW6BT9War",
      "include_colab_link": true
    },
    "kernelspec": {
      "name": "python3",
      "display_name": "Python 3"
    },
    "language_info": {
      "name": "python"
    }
  },
  "cells": [
    {
      "cell_type": "markdown",
      "metadata": {
        "id": "view-in-github",
        "colab_type": "text"
      },
      "source": [
        "<a href=\"https://colab.research.google.com/github/FernandoPtc/Cartorioebac/blob/main/Untitled2.ipynb\" target=\"_parent\"><img src=\"https://colab.research.google.com/assets/colab-badge.svg\" alt=\"Open In Colab\"/></a>"
      ]
    },
    {
      "cell_type": "markdown",
      "source": [
        "# 1. Leitura"
      ],
      "metadata": {
        "id": "M4BJpjzGzgAA"
      }
    },
    {
      "cell_type": "markdown",
      "source": [
        "#**1.1 Configuração inicial**"
      ],
      "metadata": {
        "id": "CrjvskBKzpx5"
      }
    },
    {
      "cell_type": "markdown",
      "source": [
        "Vamos utilizar uma função do **Google Colab** para criar arquivos para esse módulo. **Nota**: esse código **não** é do Python e sim da ferramenta."
      ],
      "metadata": {
        "id": "UarTQL4A1MYR"
      }
    },
    {
      "cell_type": "markdown",
      "source": [
        "**Arquivo CSV**: banco.csv"
      ],
      "metadata": {
        "id": "HewCd2fy1l-7"
      }
    },
    {
      "cell_type": "code",
      "execution_count": 3,
      "metadata": {
        "colab": {
          "base_uri": "https://localhost:8080/"
        },
        "id": "2aNXEKxuy6Do",
        "outputId": "a376b1ff-766e-474e-d264-ec4cc4aee2f7"
      },
      "outputs": [
        {
          "output_type": "stream",
          "name": "stdout",
          "text": [
            "Overwriting banco.csv\n"
          ]
        }
      ],
      "source": [
        "%%writefile banco.csv\n",
        "age,job,marital,education,default,balance,housing,loan\n",
        "30,unemployed,married,primary,no,1787,no,no\n",
        "33,services,married,secondary,no,4789,yes,yes\n",
        "35,management,single,tertiary,no,1350,yes,no\n",
        "30,management,married,tertiary,no,1476,yes,yes\n",
        "59,blue-colla,married,secondary,no,0,yes,no\n",
        "35,management,single,tertiary,no,747,no,no\n",
        "36,self-employed,married,tertiary,no,307,yes,no\n",
        "39,technician,married,secondary,no,147,yes,no\n",
        "41,entrepreneur,married,tertiary,no,221,yes,no\n",
        "43,services,married,primary,no,-88,yes,yes"
      ]
    },
    {
      "cell_type": "markdown",
      "source": [
        "# **1,2 with / open**"
      ],
      "metadata": {
        "id": "vg2HBu405mAr"
      }
    },
    {
      "cell_type": "markdown",
      "source": [
        "Comando para ler arquivos\n",
        "\n",
        "```\n",
        "# with open(file='<caminho do arquivo>', mode='<modo de leitura>, encoding='<decodificador>') as <apelido>:\n",
        "  bloco de código\n",
        "```\n",
        "\n"
      ],
      "metadata": {
        "id": "TsOV-lvB56kS"
      }
    },
    {
      "cell_type": "markdown",
      "source": [
        "Os modos de leitura são:\n",
        "  * **r**: Abrir o arquivo para leitura (padrão)."
      ],
      "metadata": {
        "id": "ZOKChxKQ65yp"
      }
    },
    {
      "cell_type": "markdown",
      "source": [
        "# **1.3 read**"
      ],
      "metadata": {
        "id": "xpKEkjI67OVR"
      }
    },
    {
      "cell_type": "markdown",
      "source": [
        "Comando para ler todo o conteúdo de um arquivo."
      ],
      "metadata": {
        "id": "9cCCwlCC7lfU"
      }
    },
    {
      "cell_type": "code",
      "source": [
        "conteudo = None\n",
        "\n",
        "with open(file='./banco.csv', mode='r', encoding='utf8') as arquivo:\n",
        "  conteudo = arquivo.read ()\n",
        "print (conteudo)"
      ],
      "metadata": {
        "colab": {
          "base_uri": "https://localhost:8080/"
        },
        "id": "izehGNH87qUY",
        "outputId": "7fd9f384-c6c8-4308-e297-b112e5cd2ca5"
      },
      "execution_count": 6,
      "outputs": [
        {
          "output_type": "stream",
          "name": "stdout",
          "text": [
            "age,job,marital,education,default,balance,housing,loan\n",
            "30,unemployed,married,primary,no,1787,no,no\n",
            "33,services,married,secondary,no,4789,yes,yes\n",
            "35,management,single,tertiary,no,1350,yes,no\n",
            "30,management,married,tertiary,no,1476,yes,yes\n",
            "59,blue-colla,married,secondary,no,0,yes,no\n",
            "35,management,single,tertiary,no,747,no,no\n",
            "36,self-employed,married,tertiary,no,307,yes,no\n",
            "39,technician,married,secondary,no,147,yes,no\n",
            "41,entrepreneur,married,tertiary,no,221,yes,no\n",
            "43,services,married,primary,no,-88,yes,yes\n",
            "\n"
          ]
        }
      ]
    },
    {
      "cell_type": "markdown",
      "source": [
        "# **1.4 readline**"
      ],
      "metadata": {
        "id": "rMzoSn7x85FB"
      }
    },
    {
      "cell_type": "markdown",
      "source": [
        "Comando para ler o conteúdo de um arquivo de uma linha por vez."
      ],
      "metadata": {
        "id": "S1Wmr63H8_De"
      }
    },
    {
      "cell_type": "code",
      "source": [
        "conteudo = []\n",
        "\n",
        "with open(file='./banco.csv', mode='r', encoding='utf8') as arquivo:\n",
        "  linha = arquivo.readline() # lê a primeira linha\n",
        "  while linha:\n",
        "    conteudo.append(linha)\n",
        "    linha = arquivo.readline() # lê uma nova linha, se a linha não existir, salva o valor None\n",
        "\n",
        "print(conteudo)"
      ],
      "metadata": {
        "id": "bARCw4bq9GDm"
      },
      "execution_count": null,
      "outputs": []
    },
    {
      "cell_type": "code",
      "source": [
        "for linha in conteudo:\n",
        "  print(linha)"
      ],
      "metadata": {
        "id": "yfGax5m2-IyP"
      },
      "execution_count": null,
      "outputs": []
    },
    {
      "cell_type": "markdown",
      "source": [
        "**Exemplo**: Extraindo os valores da primeira coluna (idade)."
      ],
      "metadata": {
        "id": "W1O2vp8A-bpt"
      }
    },
    {
      "cell_type": "code",
      "source": [
        "idades = []\n",
        "\n",
        "with open(file='./banco.csv', mode='r', encoding='utf8') as arquivo:\n",
        "  linha = arquivo.readline() # lê o cabeçalho\n",
        "  linha = arquivo.readline() # lê a primeira linha\n",
        "  while linha:\n",
        "    linha_separada = linha.split(sep=',') # quebra a string nas virgulas e salva os resultados em uma lista\n",
        "    idade = linha_separada[0] # seleciona o primeiro elemento da lista\n",
        "    idade = int(idade) # converte o valor de string para integer (inteiro)\n",
        "    idades.append(idade) # salva o valor na lista de idades\n",
        "    linha = arquivo.readline() # lê uma nova linha, se a linha não existir, salva o valor None"
      ],
      "metadata": {
        "id": "A5uRnzJE-kc1"
      },
      "execution_count": null,
      "outputs": []
    }
  ]
}